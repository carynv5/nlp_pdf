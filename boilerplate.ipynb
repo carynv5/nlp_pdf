{
 "cells": [
  {
   "cell_type": "code",
   "execution_count": null,
   "metadata": {},
   "outputs": [],
   "source": [
    "import PyPDF2\n",
    "import os\n",
    "\n",
    "def extract_text(pdf_path):\n",
    "    with open(pdf_path, 'rb') as file:\n",
    "        reader = PyPDF2.PdfReader(file)\n",
    "        text = \"\"\n",
    "        for page in reader.pages:\n",
    "            text += page.extract_text() + \"\\n\"\n",
    "    return text\n",
    "\n",
    "# Usage\n",
    "pdf_path = 'pdf/B.08W9127N20B0017Plans.pdf'\n",
    "extracted_text = extract_text(pdf_path)\n",
    "\n",
    "# Save to file\n",
    "output_dir = 'pdf_extraction_results'\n",
    "os.makedirs(output_dir, exist_ok=True)\n",
    "with open(os.path.join(output_dir, 'extracted_text.txt'), 'w', encoding='utf-8') as f:\n",
    "    f.write(extracted_text)\n",
    "\n",
    "print(f\"Extracted text saved to {os.path.join(output_dir, 'extracted_text.txt')}\")\n"
   ]
  },
  {
   "cell_type": "code",
   "execution_count": null,
   "metadata": {},
   "outputs": [],
   "source": [
    "import camelot\n",
    "\n",
    "def extract_tables(pdf_path):\n",
    "    tables = camelot.read_pdf(pdf_path)\n",
    "    return tables\n",
    "\n",
    "# Usage\n",
    "pdf_path = 'pdf/B.08W9127N20B0017Plans.pdf'\n",
    "extracted_tables = extract_tables(pdf_path)\n",
    "for i, table in enumerate(extracted_tables):\n",
    "    print(f\"Table {i+1}:\")\n",
    "    print(table.df)  # Prints the table as a pandas DataFrame\n",
    "    print(\"\\n\")"
   ]
  },
  {
   "cell_type": "code",
   "execution_count": null,
   "metadata": {},
   "outputs": [
    {
     "ename": "",
     "evalue": "",
     "output_type": "error",
     "traceback": [
      "\u001b[1;31mRunning cells with '.venv (Python 3.12.6)' requires the ipykernel package.\n",
      "\u001b[1;31mRun the following command to install 'ipykernel' into the Python environment. \n",
      "\u001b[1;31mCommand: '/Users/carynv5/Documents/dev/nlp/.venv/bin/python -m pip install ipykernel -U --force-reinstall'"
     ]
    }
   ],
   "source": [
    "import camelot\n",
    "\n",
    "def extract_tables(pdf_path):\n",
    "    # Read the PDF and extract tables\n",
    "    tables = camelot.read_pdf(pdf_path)\n",
    "    \n",
    "    print(f\"Total tables extracted: {len(tables)}\")\n",
    "    \n",
    "    # Save each table as a CSV file\n",
    "    for i, table in enumerate(tables):\n",
    "        table.to_csv(f'table_{i+1}.csv')\n",
    "        print(f\"Table {i+1} saved as table_{i+1}.csv\")\n",
    "    \n",
    "    # You can also convert tables to a pandas DataFrame\n",
    "    # Example for the first table:\n",
    "    if len(tables) > 0:\n",
    "        df = tables[0].df\n",
    "        print(\"\\nFirst few rows of the first table:\")\n",
    "        print(df.head())\n",
    "\n",
    "# Usage\n",
    "pdf_path = 'pdf/B.08W9127N20B0017Plans.pdf'\n",
    "extract_tables(pdf_path)"
   ]
  },
  {
   "cell_type": "code",
   "execution_count": null,
   "metadata": {},
   "outputs": [],
   "source": []
  }
 ],
 "metadata": {
  "kernelspec": {
   "display_name": ".venv",
   "language": "python",
   "name": "python3"
  },
  "language_info": {
   "codemirror_mode": {
    "name": "ipython",
    "version": 3
   },
   "file_extension": ".py",
   "mimetype": "text/x-python",
   "name": "python",
   "nbconvert_exporter": "python",
   "pygments_lexer": "ipython3",
   "version": "3.12.6"
  }
 },
 "nbformat": 4,
 "nbformat_minor": 2
}
